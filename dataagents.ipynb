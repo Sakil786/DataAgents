{
  "nbformat": 4,
  "nbformat_minor": 0,
  "metadata": {
    "colab": {
      "provenance": [],
      "gpuType": "T4"
    },
    "kernelspec": {
      "name": "python3",
      "display_name": "Python 3"
    },
    "language_info": {
      "name": "python"
    },
    "accelerator": "GPU"
  },
  "cells": [
    {
      "cell_type": "markdown",
      "source": [
        "# **Intalling Necessary Libraries**"
      ],
      "metadata": {
        "id": "4jD_NPMJwEdr"
      }
    },
    {
      "cell_type": "code",
      "source": [
        "!pip install llama-index\n",
        "!pip install llama-index-llms-anthropic\n",
        "!pip install llama-index-embeddings-huggingface"
      ],
      "metadata": {
        "id": "w4aYPojHvTvc"
      },
      "execution_count": null,
      "outputs": []
    },
    {
      "cell_type": "code",
      "source": [
        "# llama-parse is async-first, running the async code in a notebook requires the use of nest_asyncio\n",
        "import nest_asyncio\n",
        "nest_asyncio.apply()\n",
        "\n",
        "\n",
        "from IPython.display import display, HTML"
      ],
      "metadata": {
        "id": "-sjHGM_Gwx8y"
      },
      "execution_count": 35,
      "outputs": []
    },
    {
      "cell_type": "code",
      "source": [],
      "metadata": {
        "id": "bBU7pbji2jYA"
      },
      "execution_count": 39,
      "outputs": []
    },
    {
      "cell_type": "code",
      "source": [
        "ANTHROPIC_API_KEY=\"YOUR KEY\""
      ],
      "metadata": {
        "id": "KrurVP7761Lh"
      },
      "execution_count": null,
      "outputs": []
    },
    {
      "cell_type": "code",
      "source": [
        "from llama_index.llms.anthropic import Anthropic\n",
        "from llama_index.embeddings.huggingface import HuggingFaceEmbedding"
      ],
      "metadata": {
        "id": "M5z7JcKsw-Xw"
      },
      "execution_count": 40,
      "outputs": []
    },
    {
      "cell_type": "code",
      "source": [],
      "metadata": {
        "id": "w0cLro1h4I56"
      },
      "execution_count": 40,
      "outputs": []
    },
    {
      "cell_type": "code",
      "source": [
        "from llama_index.core.agent import ReActAgent\n",
        "from llama_index.core.llms import ChatMessage\n",
        "from llama_index.core.tools import BaseTool, FunctionTool"
      ],
      "metadata": {
        "id": "5qLagbvw1qTe"
      },
      "execution_count": 41,
      "outputs": []
    },
    {
      "cell_type": "markdown",
      "source": [
        "**Set LLM and Embedding model**"
      ],
      "metadata": {
        "id": "eGH4ewmRyAvU"
      }
    },
    {
      "cell_type": "code",
      "source": [
        "llm = Anthropic(temperature=0.0, model='claude-3-opus-20240229',api_key=ANTHROPIC_API_KEY)"
      ],
      "metadata": {
        "id": "fM-CZMBpxHWH"
      },
      "execution_count": 42,
      "outputs": []
    },
    {
      "cell_type": "code",
      "source": [
        "embed_model = HuggingFaceEmbedding(model_name=\"BAAI/bge-base-en-v1.5\")"
      ],
      "metadata": {
        "id": "oDE_H_bExNxh"
      },
      "execution_count": 43,
      "outputs": []
    },
    {
      "cell_type": "code",
      "source": [
        "from llama_index.core import Settings\n",
        "Settings.llm = llm\n",
        "Settings.embed_model = embed_model\n",
        "Settings.chunk_size = 512"
      ],
      "metadata": {
        "id": "JIDePCJC4M7m"
      },
      "execution_count": 44,
      "outputs": []
    },
    {
      "cell_type": "markdown",
      "source": [
        "# **ReAct Agent over QueryEngine Tools**"
      ],
      "metadata": {
        "id": "FfGRabHzyNxm"
      }
    },
    {
      "cell_type": "code",
      "source": [
        "from llama_index.core.tools import QueryEngineTool, ToolMetadata"
      ],
      "metadata": {
        "id": "4XP_hIdJxT0J"
      },
      "execution_count": 45,
      "outputs": []
    },
    {
      "cell_type": "markdown",
      "source": [
        "# **Load Data**"
      ],
      "metadata": {
        "id": "PygmS0wMybs0"
      }
    },
    {
      "cell_type": "code",
      "source": [
        "from llama_index.core import SimpleDirectoryReader, VectorStoreIndex\n",
        "\n",
        "google_docs = SimpleDirectoryReader(input_files=[\"/content/data/goog-10-k-2023.pdf\"]).load_data()\n",
        "netflix_docs = SimpleDirectoryReader(input_files=[\"/content/data/Netflix-10-K-01262024.pdf\"]).load_data()"
      ],
      "metadata": {
        "id": "t1bAdSCoyTPG"
      },
      "execution_count": 46,
      "outputs": []
    },
    {
      "cell_type": "markdown",
      "source": [
        "# **Build Index**"
      ],
      "metadata": {
        "id": "i-5bdKFZ0d-b"
      }
    },
    {
      "cell_type": "code",
      "source": [
        "google_index = VectorStoreIndex.from_documents(google_docs)\n",
        "netflix_index = VectorStoreIndex.from_documents(netflix_docs)"
      ],
      "metadata": {
        "id": "XrNu-IXh0Y_Z"
      },
      "execution_count": 47,
      "outputs": []
    },
    {
      "cell_type": "markdown",
      "source": [
        "# **Create QueryEngines**"
      ],
      "metadata": {
        "id": "9svyWc4Y0t-a"
      }
    },
    {
      "cell_type": "code",
      "source": [
        "google_engine = google_index.as_query_engine(similarity_top_k=3)\n",
        "netflix__engine = netflix_index.as_query_engine(similarity_top_k=3)"
      ],
      "metadata": {
        "id": "tlxUjetu0tQc"
      },
      "execution_count": 48,
      "outputs": []
    },
    {
      "cell_type": "markdown",
      "source": [
        "# **Create QueryEngine Tools**"
      ],
      "metadata": {
        "id": "GaHYuE1m1CS-"
      }
    },
    {
      "cell_type": "code",
      "source": [
        "query_engine_tools = [\n",
        "    QueryEngineTool(\n",
        "        query_engine=google_engine,\n",
        "        metadata=ToolMetadata(\n",
        "            name=\"google_10k\",\n",
        "            description=(\n",
        "                \"Provides information about google financials for year 2023. \"\n",
        "                \"Use a detailed plain text question as input to the tool.\"\n",
        "            ),\n",
        "        ),\n",
        "    ),\n",
        "    QueryEngineTool(\n",
        "        query_engine=netflix__engine,\n",
        "        metadata=ToolMetadata(\n",
        "            name=\"netflix_10k\",\n",
        "            description=(\n",
        "                \"Provides information about Netflix financials for year 2023. \"\n",
        "                \"Use a detailed plain text question as input to the tool.\"\n",
        "            ),\n",
        "        ),\n",
        "    ),\n",
        "]"
      ],
      "metadata": {
        "id": "XGA6kcSs09Jt"
      },
      "execution_count": 49,
      "outputs": []
    },
    {
      "cell_type": "markdown",
      "source": [
        "# **ReAct Agent**"
      ],
      "metadata": {
        "id": "Dbs4pkMd1b6j"
      }
    },
    {
      "cell_type": "code",
      "source": [
        "agent = ReActAgent.from_tools(\n",
        "    query_engine_tools,\n",
        "    llm=llm,\n",
        "    verbose=True,\n",
        ")"
      ],
      "metadata": {
        "id": "Er1HjYX61Y-W"
      },
      "execution_count": 50,
      "outputs": []
    },
    {
      "cell_type": "markdown",
      "source": [
        "**Querying with ReAct Agent**"
      ],
      "metadata": {
        "id": "sUSzufKL1w4-"
      }
    },
    {
      "cell_type": "code",
      "source": [
        "response = agent.chat(\"What was Google's revenue growth in 2023?\")"
      ],
      "metadata": {
        "colab": {
          "base_uri": "https://localhost:8080/"
        },
        "id": "Lq7LvdzQ1gbE",
        "outputId": "1609334d-4a79-488b-a556-dd85a6d71d20"
      },
      "execution_count": 51,
      "outputs": [
        {
          "output_type": "stream",
          "name": "stdout",
          "text": [
            "HTTP Request: POST https://api.anthropic.com/v1/messages \"HTTP/1.1 200 OK\"\n",
            "\u001b[1;3;38;5;200mThought: The current language of the user is: English. I need to use a tool to help me answer the question.\n",
            "Action: google_10k\n",
            "Action Input: {'input': \"What was Google's revenue growth in 2023?\"}\n",
            "\u001b[0mHTTP Request: POST https://api.anthropic.com/v1/messages \"HTTP/1.1 200 OK\"\n",
            "\u001b[1;3;34mObservation: According to the context provided, Google's total revenues increased from $282.8 billion in 2022 to $307.4 billion in 2023, representing revenue growth of $24.6 billion.\n",
            "\n",
            "The key drivers of this revenue growth in 2023 were:\n",
            "\n",
            "- Google Search & other revenues increased by $12.6 billion\n",
            "- YouTube ads revenues grew by $2.3 billion  \n",
            "- Google subscriptions, platforms, and devices revenues increased by $5.6 billion, largely driven by growth in YouTube subscriptions and higher sales of Pixel devices\n",
            "- Google Cloud revenues increased by $6.8 billion, primarily driven by growth in Google Cloud Platform and Google Workspace\n",
            "\n",
            "However, Google Network revenues decreased by $1.5 billion in 2023 compared to 2022.\n",
            "\u001b[0mHTTP Request: POST https://api.anthropic.com/v1/messages \"HTTP/1.1 200 OK\"\n",
            "\u001b[1;3;38;5;200mThought: The tool provided the key information I needed to answer the question about Google's revenue growth in 2023. I can now provide a summary answer to the original question.\n",
            "Answer: Based on the information from Google's 2023 10-K filing, Google's total revenues grew from $282.8 billion in 2022 to $307.4 billion in 2023, an increase of $24.6 billion. The main drivers of this revenue growth were increases in Google Search & other revenues, YouTube ads and subscriptions, sales of Pixel devices, and growth in Google Cloud Platform and Workspace revenues. The only segment that saw a decline was Google Network revenues, which decreased by $1.5 billion in 2023 compared to 2022.\n",
            "\u001b[0m"
          ]
        }
      ]
    },
    {
      "cell_type": "code",
      "source": [
        "display(HTML(f'<p style=\"font-size:20px\">{response.response}</p>'))"
      ],
      "metadata": {
        "colab": {
          "base_uri": "https://localhost:8080/",
          "height": 128
        },
        "id": "27woihVg13qq",
        "outputId": "bc0f3bcf-565e-4022-85e1-eae8746d269d"
      },
      "execution_count": 52,
      "outputs": [
        {
          "output_type": "display_data",
          "data": {
            "text/plain": [
              "<IPython.core.display.HTML object>"
            ],
            "text/html": [
              "<p style=\"font-size:20px\">Based on the information from Google's 2023 10-K filing, Google's total revenues grew from $282.8 billion in 2022 to $307.4 billion in 2023, an increase of $24.6 billion. The main drivers of this revenue growth were increases in Google Search & other revenues, YouTube ads and subscriptions, sales of Pixel devices, and growth in Google Cloud Platform and Workspace revenues. The only segment that saw a decline was Google Network revenues, which decreased by $1.5 billion in 2023 compared to 2022.</p>"
            ]
          },
          "metadata": {}
        }
      ]
    },
    {
      "cell_type": "code",
      "source": [
        "response = agent.chat(\n",
        "    \"Compare and contrast the revenue growth of Netflix and Google in 2023, then\"\n",
        "    \" give an analysis\"\n",
        ")"
      ],
      "metadata": {
        "colab": {
          "base_uri": "https://localhost:8080/"
        },
        "id": "FrPcW0HJ4ul7",
        "outputId": "203a0be7-4bbe-4822-b552-06acd8030e81"
      },
      "execution_count": 53,
      "outputs": [
        {
          "output_type": "stream",
          "name": "stdout",
          "text": [
            "HTTP Request: POST https://api.anthropic.com/v1/messages \"HTTP/1.1 200 OK\"\n",
            "\u001b[1;3;38;5;200mThought: The current language of the user is: English. I need to use tools to help me compare and contrast the revenue growth of Netflix and Google in 2023 and provide an analysis.\n",
            "Action: google_10k\n",
            "Action Input: {'input': \"What was Google's revenue growth in 2023 in dollar amount and percentage?\"}\n",
            "\u001b[0mHTTP Request: POST https://api.anthropic.com/v1/messages \"HTTP/1.1 200 OK\"\n",
            "\u001b[1;3;34mObservation: Based on the financial information provided in the context, Google's total revenues increased from $282,836 million in 2022 to $307,394 million in 2023. This represents a revenue growth of $24,558 million in dollar amount.\n",
            "\n",
            "To calculate the percentage growth:\n",
            "Percent change = (2023 revenue - 2022 revenue) / 2022 revenue x 100\n",
            "            = (307,394 - 282,836) / 282,836 x 100\n",
            "            = 24,558 / 282,836 x 100\n",
            "            = 8.68%\n",
            "\n",
            "Therefore, Google's revenue grew by $24,558 million or 8.68% in 2023 compared to 2022.\n",
            "\u001b[0mHTTP Request: POST https://api.anthropic.com/v1/messages \"HTTP/1.1 200 OK\"\n",
            "\u001b[1;3;38;5;200mThought: I now have Google's 2023 revenue growth in dollar amount and percentage. I still need Netflix's revenue growth information to compare and contrast the two companies.\n",
            "Action: netflix_10k\n",
            "Action Input: {'input': \"What was Netflix's revenue growth in 2023 in dollar amount and percentage?\"}\n",
            "\u001b[0mHTTP Request: POST https://api.anthropic.com/v1/messages \"HTTP/1.1 200 OK\"\n",
            "\u001b[1;3;34mObservation: Based on the financial information provided, Netflix's streaming revenue increased by $789 million or 6% in the United States and Canada (UCAN) region in 2023 compared to 2022. In the Europe, Middle East, and Africa (EMEA) region, streaming revenue grew by $811 million or 8% in 2023 versus the prior year.\n",
            "\u001b[0mHTTP Request: POST https://api.anthropic.com/v1/messages \"HTTP/1.1 200 OK\"\n",
            "\u001b[1;3;38;5;200mThought: I now have the revenue growth information for both Google and Netflix in 2023. I can compare and contrast their growth and provide an analysis.\n",
            "Answer: In 2023, Google's total revenue grew by $24.6 billion or 8.68% compared to 2022, driven by increases in Google Search & other revenues, YouTube ads and subscriptions, sales of Pixel devices, and growth in Google Cloud Platform and Workspace revenues. The only segment that saw a decline was Google Network revenues.\n",
            "\n",
            "In contrast, Netflix's streaming revenue growth was more modest and region-specific. In the United States and Canada (UCAN) region, Netflix's streaming revenue increased by $789 million or 6% in 2023. In the Europe, Middle East, and Africa (EMEA) region, streaming revenue grew by $811 million or 8% year-over-year.\n",
            "\n",
            "Google's revenue growth was significantly larger in dollar terms at $24.6 billion compared to Netflix's regional growth of $789 million in UCAN and $811 million in EMEA. Percentage-wise, Google's 8.68% overall growth was slightly higher than Netflix's 6% in UCAN and 8% in EMEA.\n",
            "\n",
            "This comparison highlights the differences in scale and business models between the two companies. Google, as a diversified technology giant, has multiple revenue streams across advertising, cloud computing, hardware, and other areas. This allows for larger dollar growth across a wider base. Netflix, as a more focused streaming service, relies primarily on subscription revenue and is subject to regional market dynamics.\n",
            "\n",
            "Looking ahead, both companies face potential challenges. Google must navigate regulatory scrutiny, competition in advertising and cloud computing, and maintaining growth across its many businesses. Netflix, while still a leader in streaming, faces intensifying competition from rival services and must balance content spending with profitability.\n",
            "\n",
            "In summary, while both Google and Netflix achieved revenue growth in 2023, the scale and drivers of their growth differed based on their respective business models and market positions. Sustaining growth in the face of evolving competitive and regulatory landscapes will be key for both companies in the future.\n",
            "\u001b[0m"
          ]
        }
      ]
    },
    {
      "cell_type": "code",
      "source": [
        "display(HTML(f'<p style=\"font-size:20px\">{response.response}</p>'))"
      ],
      "metadata": {
        "colab": {
          "base_uri": "https://localhost:8080/",
          "height": 351
        },
        "id": "ySiS3NmS5Cen",
        "outputId": "71d4e8ac-6c42-40b5-fc31-2b0314225fff"
      },
      "execution_count": 54,
      "outputs": [
        {
          "output_type": "display_data",
          "data": {
            "text/plain": [
              "<IPython.core.display.HTML object>"
            ],
            "text/html": [
              "<p style=\"font-size:20px\">In 2023, Google's total revenue grew by $24.6 billion or 8.68% compared to 2022, driven by increases in Google Search & other revenues, YouTube ads and subscriptions, sales of Pixel devices, and growth in Google Cloud Platform and Workspace revenues. The only segment that saw a decline was Google Network revenues.\n",
              "\n",
              "In contrast, Netflix's streaming revenue growth was more modest and region-specific. In the United States and Canada (UCAN) region, Netflix's streaming revenue increased by $789 million or 6% in 2023. In the Europe, Middle East, and Africa (EMEA) region, streaming revenue grew by $811 million or 8% year-over-year.\n",
              "\n",
              "Google's revenue growth was significantly larger in dollar terms at $24.6 billion compared to Netflix's regional growth of $789 million in UCAN and $811 million in EMEA. Percentage-wise, Google's 8.68% overall growth was slightly higher than Netflix's 6% in UCAN and 8% in EMEA.\n",
              "\n",
              "This comparison highlights the differences in scale and business models between the two companies. Google, as a diversified technology giant, has multiple revenue streams across advertising, cloud computing, hardware, and other areas. This allows for larger dollar growth across a wider base. Netflix, as a more focused streaming service, relies primarily on subscription revenue and is subject to regional market dynamics.\n",
              "\n",
              "Looking ahead, both companies face potential challenges. Google must navigate regulatory scrutiny, competition in advertising and cloud computing, and maintaining growth across its many businesses. Netflix, while still a leader in streaming, faces intensifying competition from rival services and must balance content spending with profitability.\n",
              "\n",
              "In summary, while both Google and Netflix achieved revenue growth in 2023, the scale and drivers of their growth differed based on their respective business models and market positions. Sustaining growth in the face of evolving competitive and regulatory landscapes will be key for both companies in the future.</p>"
            ]
          },
          "metadata": {}
        }
      ]
    },
    {
      "cell_type": "code",
      "source": [],
      "metadata": {
        "id": "b_Q_rSoT5Tyn"
      },
      "execution_count": null,
      "outputs": []
    }
  ]
}